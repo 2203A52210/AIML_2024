{
  "nbformat": 4,
  "nbformat_minor": 0,
  "metadata": {
    "colab": {
      "provenance": []
    },
    "kernelspec": {
      "name": "python3",
      "display_name": "Python 3"
    },
    "language_info": {
      "name": "python"
    }
  },
  "cells": [
    {
      "cell_type": "code",
      "execution_count": 1,
      "metadata": {
        "colab": {
          "base_uri": "https://localhost:8080/"
        },
        "id": "7orQUnhds6K5",
        "outputId": "ec9c7ce3-9626-4933-f647-a4ce1b37ae48"
      },
      "outputs": [
        {
          "output_type": "stream",
          "name": "stdout",
          "text": [
            "   age  weight\n",
            "0   12      45\n",
            "1   13      30\n",
            "2   46      67\n",
            "3   20      45\n",
            "4   34      60\n",
            "   age  weight\n",
            "0   12      45\n",
            "1   13      30\n",
            "2   46      67\n",
            "3   20      45\n",
            "4   34      60\n",
            "   age  weight\n",
            "0   12      45\n",
            "1   13      30\n",
            "2   46      67\n",
            "3   20      45\n",
            "4   34      60\n"
          ]
        },
        {
          "output_type": "stream",
          "name": "stderr",
          "text": [
            "<ipython-input-1-499220581e74>:9: FutureWarning: In a future version of pandas all arguments of read_csv except for the argument 'filepath_or_buffer' will be keyword-only.\n",
            "  df_url = pd.read_csv(url,'\\t')\n"
          ]
        },
        {
          "output_type": "stream",
          "name": "stdout",
          "text": [
            "                                        <!DOCTYPE html>\n",
            "0                                                 <html\n",
            "1                                             lang=\"en\"\n",
            "2       data-color-mode=\"auto\" data-light-theme=\"lig...\n",
            "3       data-a11y-animated-images=\"system\" data-a11y...\n",
            "4                                                     >\n",
            "...                                                 ...\n",
            "1263                                             </div>\n",
            "1264      <div id=\"js-global-screen-reader-notice\" c...\n",
            "1265      <div id=\"js-global-screen-reader-notice-as...\n",
            "1266                                            </body>\n",
            "1267                                            </html>\n",
            "\n",
            "[1268 rows x 1 columns]\n"
          ]
        }
      ],
      "source": [
        "import pandas as pd\n",
        "df_tsv = pd.read_csv('/content/2203A52210 - Sheet1.tsv', sep='\\t')\n",
        "print(df_tsv)\n",
        "df_csv = pd.read_csv('/content/2203A52210 - Sheet1.csv')\n",
        "print(df_csv)\n",
        "df_xlsx = pd.read_excel(\"/content/2203A52210.xlsx\")\n",
        "print(df_xlsx)\n",
        "url = \"https://github.com/2203A52210/2203A52210\"\n",
        "df_url = pd.read_csv(url,'\\t')\n",
        "print(df_url)"
      ]
    }
  ]
}