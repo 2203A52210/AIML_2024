{
  "nbformat": 4,
  "nbformat_minor": 0,
  "metadata": {
    "colab": {
      "provenance": []
    },
    "kernelspec": {
      "name": "python3",
      "display_name": "Python 3"
    },
    "language_info": {
      "name": "python"
    }
  },
  "cells": [
    {
      "cell_type": "code",
      "execution_count": 4,
      "metadata": {
        "colab": {
          "base_uri": "https://localhost:8080/"
        },
        "id": "UMnoNVgkFIjd",
        "outputId": "f56bf28f-e866-4b22-cbc8-3cbf2e198d37"
      },
      "outputs": [
        {
          "output_type": "stream",
          "name": "stdout",
          "text": [
            "list= [1, 2, 3]\n",
            "array= [1 2 3]\n"
          ]
        },
        {
          "output_type": "execute_result",
          "data": {
            "text/plain": [
              "numpy.ndarray"
            ]
          },
          "metadata": {},
          "execution_count": 4
        }
      ],
      "source": [
        "import numpy as np\n",
        "list=[1,2,3]\n",
        "array1=np.array(list)\n",
        "print(\"list=\",list)\n",
        "print(\"array=\",array1)\n",
        "type(list)\n",
        "type(array1)"
      ]
    },
    {
      "cell_type": "code",
      "source": [
        "a = np.array([1, 2, 3, 4, 5])\n",
        "b = np.array([2, 3, 4, 5, 6])\n",
        "result_multiply = np.multiply(a, b)\n",
        "print(\"multiplication:\", result_multiply)\n",
        "result_divide = np.divide(a, b)\n",
        "print(\"division:\", result_divide)\n",
        "result_power = np.power(a, b)\n",
        "print(\"power operation:\", result_power)\n",
        "\n"
      ],
      "metadata": {
        "colab": {
          "base_uri": "https://localhost:8080/"
        },
        "id": "DaAy3dgAHKYG",
        "outputId": "238dea45-77ae-49b5-d30e-b96d8513618e"
      },
      "execution_count": 10,
      "outputs": [
        {
          "output_type": "stream",
          "name": "stdout",
          "text": [
            "multiplication: [ 2  6 12 20 30]\n",
            "division: [0.5        0.66666667 0.75       0.8        0.83333333]\n",
            "power operation: [    1     8    81  1024 15625]\n"
          ]
        }
      ]
    },
    {
      "cell_type": "code",
      "source": [
        "addition=np.add(a,b)\n",
        "print(\"addition:\",addition)"
      ],
      "metadata": {
        "colab": {
          "base_uri": "https://localhost:8080/"
        },
        "id": "YJ4A2gPoKjnC",
        "outputId": "622f5992-fc07-4b19-f9ee-deadfa1f98a0"
      },
      "execution_count": 11,
      "outputs": [
        {
          "output_type": "stream",
          "name": "stdout",
          "text": [
            "addition: [ 3  5  7  9 11]\n"
          ]
        }
      ]
    },
    {
      "cell_type": "code",
      "source": [
        "a = np.array([1, 2, 3, 4, 5])\n",
        "sin = np.sin(a)\n",
        "print(\"Sin:\", sin)\n",
        "log = np.log(a)\n",
        "print(\"Logarithm:\",log)\n",
        "log2 = np.log2(a)\n",
        "print(\"Log2:\",log2)\n",
        "exp = np.exp(a)\n",
        "print(\"Exponential:\",exp)\n"
      ],
      "metadata": {
        "colab": {
          "base_uri": "https://localhost:8080/"
        },
        "id": "XlkGdtm2KzMZ",
        "outputId": "55eab892-175d-45d3-d77a-a37d369c5cc1"
      },
      "execution_count": 16,
      "outputs": [
        {
          "output_type": "stream",
          "name": "stdout",
          "text": [
            "Sin: [ 0.84147098  0.90929743  0.14112001 -0.7568025  -0.95892427]\n",
            "Logarithm: [0.         0.69314718 1.09861229 1.38629436 1.60943791]\n",
            "Log2: [0.         1.         1.5849625  2.         2.32192809]\n",
            "Exponential: [  2.71828183   7.3890561   20.08553692  54.59815003 148.4131591 ]\n"
          ]
        }
      ]
    }
  ]
}